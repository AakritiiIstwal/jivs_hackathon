{
 "cells": [
  {
   "cell_type": "code",
   "execution_count": 1,
   "id": "6cd4a619",
   "metadata": {
    "scrolled": true
   },
   "outputs": [],
   "source": [
    "# !pip install langchain langchain_community langchain_chroma"
   ]
  },
  {
   "cell_type": "code",
   "execution_count": 2,
   "id": "27364dd3",
   "metadata": {},
   "outputs": [],
   "source": [
    "# pip install -qU langchain-mistralai"
   ]
  },
  {
   "cell_type": "code",
   "execution_count": 4,
   "id": "d7c55305",
   "metadata": {},
   "outputs": [
    {
     "ename": "ModuleNotFoundError",
     "evalue": "No module named 'langchain_community'",
     "output_type": "error",
     "traceback": [
      "\u001b[0;31m---------------------------------------------------------------------------\u001b[0m",
      "\u001b[0;31mModuleNotFoundError\u001b[0m                       Traceback (most recent call last)",
      "Input \u001b[0;32mIn [4]\u001b[0m, in \u001b[0;36m<module>\u001b[0;34m\u001b[0m\n\u001b[1;32m      1\u001b[0m \u001b[38;5;28;01mimport\u001b[39;00m \u001b[38;5;21;01mpandas\u001b[39;00m \u001b[38;5;28;01mas\u001b[39;00m \u001b[38;5;21;01mpd\u001b[39;00m\n\u001b[0;32m----> 2\u001b[0m \u001b[38;5;28;01mfrom\u001b[39;00m \u001b[38;5;21;01mlangchain_community\u001b[39;00m\u001b[38;5;21;01m.\u001b[39;00m\u001b[38;5;21;01mdocument_loaders\u001b[39;00m \u001b[38;5;28;01mimport\u001b[39;00m WebBaseLoader\n",
      "\u001b[0;31mModuleNotFoundError\u001b[0m: No module named 'langchain_community'"
     ]
    }
   ],
   "source": [
    "import pandas as pd\n",
    "from langchain_community.document_loaders import WebBaseLoader\n",
    "# from langchain.vectorstores import FAISS\n",
    "# from langchain.embeddings import OpenAIEmbeddings\n",
    "# from langchain.llms import OpenAI\n",
    "# from langchain.chains import RetrievalQA\n",
    "# from langchain.prompts import PromptTemplate\n",
    "\n",
    "# # Load your data\n",
    "# df = pd.read_csv('sap_dummy_data_dd02t.csv')\n",
    "\n",
    "# # Initialize embeddings model\n",
    "# embeddings = OpenAIEmbeddings()\n",
    "\n",
    "# # Create a document loader\n",
    "# documents = [DocumentLoader(text) for text in df['text'].tolist()]\n",
    "\n",
    "# # Create a FAISS index\n",
    "# vector_store = FAISS.from_documents(documents, embeddings)\n",
    "\n",
    "# # Save the index (optional)\n",
    "# vector_store.save_local(\"faiss_index\")\n",
    "\n",
    "# # Load the FAISS index\n",
    "# vector_store = FAISS.load_local(\"faiss_index\")\n",
    "\n",
    "# # Create a retriever\n",
    "# retriever = vector_store.as_retriever()\n",
    "\n",
    "# # Initialize the language model\n",
    "# llm = OpenAI(model=\"text-davinci-003\", openai_api_key=\"your_openai_api_key\")\n",
    "\n",
    "# # Define a prompt template\n",
    "# prompt_template = \"\"\"\n",
    "# Given the following documents, answer the question in detail:\n",
    "\n",
    "# Documents:\n",
    "# {documents}\n",
    "\n",
    "# Question:\n",
    "# {question}\n",
    "\n",
    "# Answer:\n",
    "# \"\"\"\n",
    "\n",
    "# prompt = PromptTemplate(input_variables=[\"documents\", \"question\"], template=prompt_template)\n",
    "\n",
    "# # Create the RAG chain\n",
    "# rag_chain = RetrievalQA(retriever=retriever, llm=llm, prompt_template=prompt)\n",
    "\n",
    "# def generate_response(question):\n",
    "#     response = rag_chain({\"question\": question})\n",
    "#     return response[\"answer\"]\n",
    "\n",
    "# # Example usage\n",
    "# question = \"What is the capital of France?\"\n",
    "# response = generate_response(question)\n",
    "# print(response)\n"
   ]
  },
  {
   "cell_type": "code",
   "execution_count": null,
   "id": "f96ebace",
   "metadata": {},
   "outputs": [],
   "source": []
  }
 ],
 "metadata": {
  "kernelspec": {
   "display_name": "Python 3 (ipykernel)",
   "language": "python",
   "name": "python3"
  },
  "language_info": {
   "codemirror_mode": {
    "name": "ipython",
    "version": 3
   },
   "file_extension": ".py",
   "mimetype": "text/x-python",
   "name": "python",
   "nbconvert_exporter": "python",
   "pygments_lexer": "ipython3",
   "version": "3.10.2"
  }
 },
 "nbformat": 4,
 "nbformat_minor": 5
}
